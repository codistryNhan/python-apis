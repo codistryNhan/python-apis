{
 "cells": [
  {
   "cell_type": "code",
   "execution_count": 13,
   "metadata": {},
   "outputs": [],
   "source": [
    "# Dependencies\n",
    "import requests\n",
    "import json\n",
    "import pprint as pp\n",
    "pp = pp.PrettyPrinter(indent=2)"
   ]
  },
  {
   "cell_type": "code",
   "execution_count": 2,
   "metadata": {},
   "outputs": [],
   "source": [
    "# URL for GET requests to retrieve vehicle data\n",
    "url = \"https://api.spacexdata.com/v3/launchpads\""
   ]
  },
  {
   "cell_type": "code",
   "execution_count": 14,
   "metadata": {},
   "outputs": [
    {
     "name": "stdout",
     "output_type": "stream",
     "text": [
      "[ { 'details': 'SpaceX original launch site, where all of the Falcon 1 '\n",
      "               'launches occured. Abandoned as SpaceX decided against '\n",
      "               'upgrading the pad to support Falcon 9.',\n",
      "    'id': 1,\n",
      "    'location': { 'latitude': 9.0477206,\n",
      "                  'longitude': 167.7431292,\n",
      "                  'name': 'Omelek Island',\n",
      "                  'region': 'Marshall Islands'},\n",
      "    'site_id': 'kwajalein_atoll',\n",
      "    'site_name_long': 'Kwajalein Atoll Omelek Island',\n",
      "    'status': 'retired',\n",
      "    'vehicles_launched': ['Falcon 1']},\n",
      "  { 'details': 'SpaceX primary Falcon 9 launch pad, where all east coast '\n",
      "               'Falcon 9s launched prior to the AMOS-6 anomaly. Initially used '\n",
      "               'to launch Titan rockets for Lockheed Martin. Back online since '\n",
      "               'CRS-13 on 2017-12-15.',\n",
      "    'id': 2,\n",
      "    'location': { 'latitude': 28.5618571,\n",
      "                  'longitude': -80.577366,\n",
      "                  'name': 'Cape Canaveral',\n",
      "                  'region': 'Florida'},\n",
      "    'site_id': 'ccafs_slc_40',\n",
      "    'site_name_long': 'Cape Canaveral Air Force Station Space Launch Complex '\n",
      "                      '40',\n",
      "    'status': 'active',\n",
      "    'vehicles_launched': ['Falcon 9']},\n",
      "  { 'details': 'SpaceX east coast landing pad, where the historic first '\n",
      "               'landing occurred. Originally used for early Atlas missiles and '\n",
      "               'rockets from Lockheed Martin. Currently being expanded to add '\n",
      "               'two smaller pads for Falcon Heavy RTLS missions.',\n",
      "    'id': 3,\n",
      "    'location': { 'latitude': 28.4857244,\n",
      "                  'longitude': -80.5449222,\n",
      "                  'name': 'Cape Canaveral',\n",
      "                  'region': 'Florida'},\n",
      "    'site_id': 'ccafs_lc_13',\n",
      "    'site_name_long': 'Cape Canaveral Air Force Station Space Launch Complex '\n",
      "                      '13',\n",
      "    'status': 'active',\n",
      "    'vehicles_launched': ['Falcon 9']},\n",
      "  { 'details': 'NASA historic launch pad that launched most of the Saturn V '\n",
      "               'and Space Shuttle missions. Initially for Falcon Heavy '\n",
      "               'launches, it is now launching all of SpaceX east coast '\n",
      "               'missions due to the damage from the AMOS-6 anomaly. After '\n",
      "               'SLC-40 repairs are complete, it will be upgraded to support '\n",
      "               'Falcon Heavy, a process which will take about two months. In '\n",
      "               'the future it will launch commercial crew missions and the '\n",
      "               'Interplanetary Transport System.',\n",
      "    'id': 4,\n",
      "    'location': { 'latitude': 28.6080585,\n",
      "                  'longitude': -80.6039558,\n",
      "                  'name': 'Cape Canaveral',\n",
      "                  'region': 'Florida'},\n",
      "    'site_id': 'ksc_lc_39a',\n",
      "    'site_name_long': 'Kennedy Space Center Historic Launch Complex 39A',\n",
      "    'status': 'active',\n",
      "    'vehicles_launched': ['Falcon 9', 'Falcon Heavy']},\n",
      "  { 'details': 'SpaceX original west coast launch pad for Falcon 1. Performed '\n",
      "               'a static fire but was never used for a launch and abandoned '\n",
      "               'due to scheduling conflicts.',\n",
      "    'id': 5,\n",
      "    'location': { 'latitude': 34.6440904,\n",
      "                  'longitude': -120.5931438,\n",
      "                  'name': 'Vandenberg Air Force Base',\n",
      "                  'region': 'California'},\n",
      "    'site_id': 'vafb_slc_3w',\n",
      "    'site_name_long': 'Vandenberg Air Force Base Space Launch Complex 3W',\n",
      "    'status': 'retired',\n",
      "    'vehicles_launched': ['Falcon 1']},\n",
      "  { 'details': 'SpaceX primary west coast launch pad for polar orbits and sun '\n",
      "               'synchronous orbits, primarily used for Iridium. Also intended '\n",
      "               'to be capable of launching Falcon Heavy.',\n",
      "    'id': 6,\n",
      "    'location': { 'latitude': 34.632093,\n",
      "                  'longitude': -120.610829,\n",
      "                  'name': 'Vandenberg Air Force Base',\n",
      "                  'region': 'California'},\n",
      "    'site_id': 'vafb_slc_4e',\n",
      "    'site_name_long': 'Vandenberg Air Force Base Space Launch Complex 4E',\n",
      "    'status': 'active',\n",
      "    'vehicles_launched': ['Falcon 9']},\n",
      "  { 'details': 'SpaceX west coast landing pad, has not yet been used. Expected '\n",
      "               'to first be used during the Formosat-5 launch.',\n",
      "    'id': 7,\n",
      "    'location': { 'latitude': 34.6332043,\n",
      "                  'longitude': -120.6156234,\n",
      "                  'name': 'Vandenberg Air Force Base',\n",
      "                  'region': 'California'},\n",
      "    'site_id': 'vafb_slc_4w',\n",
      "    'site_name_long': 'Vandenberg Air Force Base Space Launch Complex 4W',\n",
      "    'status': 'active',\n",
      "    'vehicles_launched': ['Falcon 9']},\n",
      "  { 'details': 'SpaceX new launch site currently under construction to help '\n",
      "               'keep up with the Falcon 9 and Heavy manifests. Expected to be '\n",
      "               'completed in late 2018. Initially will be limited to 12 '\n",
      "               'flights per year, and only GTO launches.',\n",
      "    'id': 8,\n",
      "    'location': { 'latitude': 25.9972641,\n",
      "                  'longitude': -97.1560845,\n",
      "                  'name': 'Boca Chica Village',\n",
      "                  'region': 'Texas'},\n",
      "    'site_id': 'stls',\n",
      "    'site_name_long': 'SpaceX South Texas Launch Site',\n",
      "    'status': 'under construction',\n",
      "    'vehicles_launched': ['Falcon 9']}]\n"
     ]
    }
   ],
   "source": [
    "# Pretty print JSON for all launchpads\n",
    "data = requests.get(url).json()\n",
    "pp.pprint(data)"
   ]
  },
  {
   "cell_type": "code",
   "execution_count": 17,
   "metadata": {},
   "outputs": [
    {
     "name": "stdout",
     "output_type": "stream",
     "text": [
      "{ 'details': 'SpaceX east coast landing pad, where the historic first landing '\n",
      "             'occurred. Originally used for early Atlas missiles and rockets '\n",
      "             'from Lockheed Martin. Currently being expanded to add two '\n",
      "             'smaller pads for Falcon Heavy RTLS missions.',\n",
      "  'id': 3,\n",
      "  'location': { 'latitude': 28.4857244,\n",
      "                'longitude': -80.5449222,\n",
      "                'name': 'Cape Canaveral',\n",
      "                'region': 'Florida'},\n",
      "  'site_id': 'ccafs_lc_13',\n",
      "  'site_name_long': 'Cape Canaveral Air Force Station Space Launch Complex 13',\n",
      "  'status': 'active',\n",
      "  'vehicles_launched': ['Falcon 9']}\n"
     ]
    }
   ],
   "source": [
    "# Pretty print JSON for a specific launchpad\n",
    "# Url for specific launchpad https://api.spacexdata.com/v3/launchpads/{{site_id}}\n",
    "\n",
    "site_id = 'ccafs_lc_13'\n",
    "url = f\"https://api.spacexdata.com/v3/launchpads/{site_id}\"\n",
    "\n",
    "data = requests.get(url).json()\n",
    "pp.pprint(data)"
   ]
  },
  {
   "cell_type": "code",
   "execution_count": null,
   "metadata": {},
   "outputs": [],
   "source": []
  }
 ],
 "metadata": {
  "kernelspec": {
   "display_name": "Python [default]",
   "language": "python",
   "name": "python3"
  },
  "language_info": {
   "codemirror_mode": {
    "name": "ipython",
    "version": 3
   },
   "file_extension": ".py",
   "mimetype": "text/x-python",
   "name": "python",
   "nbconvert_exporter": "python",
   "pygments_lexer": "ipython3",
   "version": "3.6.6"
  },
  "varInspector": {
   "cols": {
    "lenName": 16,
    "lenType": 16,
    "lenVar": 40
   },
   "kernels_config": {
    "python": {
     "delete_cmd_postfix": "",
     "delete_cmd_prefix": "del ",
     "library": "var_list.py",
     "varRefreshCmd": "print(var_dic_list())"
    },
    "r": {
     "delete_cmd_postfix": ") ",
     "delete_cmd_prefix": "rm(",
     "library": "var_list.r",
     "varRefreshCmd": "cat(var_dic_list()) "
    }
   },
   "types_to_exclude": [
    "module",
    "function",
    "builtin_function_or_method",
    "instance",
    "_Feature"
   ],
   "window_display": false
  }
 },
 "nbformat": 4,
 "nbformat_minor": 2
}
